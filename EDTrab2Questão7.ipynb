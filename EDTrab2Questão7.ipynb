{
  "nbformat": 4,
  "nbformat_minor": 0,
  "metadata": {
    "colab": {
      "provenance": [],
      "authorship_tag": "ABX9TyPcb9zQh6fhBFXFIT2Zwj49",
      "include_colab_link": true
    },
    "kernelspec": {
      "name": "python3",
      "display_name": "Python 3"
    },
    "language_info": {
      "name": "python"
    }
  },
  "cells": [
    {
      "cell_type": "markdown",
      "metadata": {
        "id": "view-in-github",
        "colab_type": "text"
      },
      "source": [
        "<a href=\"https://colab.research.google.com/github/CaioPassos3/EstruturaDeDados/blob/main/EDTrab2Quest%C3%A3o7.ipynb\" target=\"_parent\"><img src=\"https://colab.research.google.com/assets/colab-badge.svg\" alt=\"Open In Colab\"/></a>"
      ]
    },
    {
      "cell_type": "markdown",
      "source": [
        "Questão 7"
      ],
      "metadata": {
        "id": "a_RWytu4p-T7"
      }
    },
    {
      "cell_type": "markdown",
      "source": [
        "Itens A, B, C , D e E"
      ],
      "metadata": {
        "id": "f2iiUK0LqATp"
      }
    },
    {
      "cell_type": "code",
      "execution_count": 7,
      "metadata": {
        "colab": {
          "base_uri": "https://localhost:8080/"
        },
        "id": "XVTDkPsFp4YN",
        "outputId": "8db2a0eb-c097-48ad-8701-37ec59920ff9"
      },
      "outputs": [
        {
          "output_type": "stream",
          "name": "stdout",
          "text": [
            "Tamanho: 100 - Tempo de Inserção: 0.000097s, Tempo para Consultar Tamanho: 0.000001s, Tempo de Remoção: 0.000053s, Tamanho Final: 100\n",
            "Tamanho: 1000 - Tempo de Inserção: 0.002604s, Tempo para Consultar Tamanho: 0.000003s, Tempo de Remoção: 0.001309s, Tamanho Final: 1000\n",
            "Tamanho: 10000 - Tempo de Inserção: 0.021944s, Tempo para Consultar Tamanho: 0.000004s, Tempo de Remoção: 0.009033s, Tamanho Final: 10000\n",
            "Tamanho: 100000 - Tempo de Inserção: 0.231894s, Tempo para Consultar Tamanho: 0.000004s, Tempo de Remoção: 0.093798s, Tamanho Final: 100000\n",
            "Tamanho: 1000000 - Tempo de Inserção: 3.706057s, Tempo para Consultar Tamanho: 0.000004s, Tempo de Remoção: 1.479654s, Tamanho Final: 1000000\n"
          ]
        }
      ],
      "source": [
        "import time\n",
        "import random\n",
        "import string\n",
        "\n",
        "class MyDict:\n",
        "    def __init__(self, size=100):\n",
        "        self.size = size\n",
        "        self.table = [[] for _ in range(size)]\n",
        "        self.count = 0  # Contador de pares chave-valor\n",
        "\n",
        "    def _hash(self, key):\n",
        "        return hash(key) % self.size\n",
        "\n",
        "    def inserir(self, key, value):\n",
        "        index = self._hash(key)\n",
        "        for i, (k, v) in enumerate(self.table[index]):\n",
        "            if k == key:\n",
        "                self.table[index][i] = (key, value)  # Atualiza o valor\n",
        "                return\n",
        "        self.table[index].append((key, value))  # Insere um novo par\n",
        "        self.count += 1\n",
        "\n",
        "    def remover(self, key):\n",
        "        index = self._hash(key)\n",
        "        for i, (k, v) in enumerate(self.table[index]):\n",
        "            if k == key:\n",
        "                del self.table[index][i]\n",
        "                self.count -= 1\n",
        "                return True\n",
        "        return False  # Chave não encontrada\n",
        "\n",
        "    def buscar(self, key):\n",
        "        index = self._hash(key)\n",
        "        for k, v in self.table[index]:\n",
        "            if k == key:\n",
        "                return v\n",
        "        return None  # Chave não encontrada\n",
        "\n",
        "    def atualizar(self, key, value):\n",
        "        index = self._hash(key)\n",
        "        for i, (k, v) in enumerate(self.table[index]):\n",
        "            if k == key:\n",
        "                self.table[index][i] = (key, value)\n",
        "                return True  # Valor atualizado\n",
        "        return False  # Chave não encontrada\n",
        "\n",
        "    def tamanho(self):\n",
        "        return self.count\n",
        "\n",
        "    def __repr__(self):\n",
        "        return str(self.table)\n",
        "\n",
        "# Gerador de dados aleatórios\n",
        "def gerar_dados(tamanho):\n",
        "    dados = []\n",
        "    for _ in range(tamanho):\n",
        "        chave = ''.join(random.choices(string.ascii_letters + string.digits, k=10))\n",
        "        valor = random.randint(1, 1000)\n",
        "        dados.append((chave, valor))\n",
        "    return dados\n",
        "\n",
        "# Avaliação de desempenho\n",
        "def avaliar_operacoes(tamanhos):\n",
        "    resultados = []\n",
        "    for tamanho in tamanhos:\n",
        "        dados = gerar_dados(tamanho)\n",
        "        dicionario = MyDict(size=max(10, tamanho // 10))\n",
        "\n",
        "        # Avaliando inserção\n",
        "        inicio = time.time()\n",
        "        for chave, valor in dados:\n",
        "            dicionario.inserir(chave, valor)\n",
        "        tempo_insercao = time.time() - inicio\n",
        "\n",
        "        # Avaliando consulta de tamanho\n",
        "        inicio = time.time()\n",
        "        tamanho_dicionario = dicionario.tamanho()\n",
        "        tempo_tamanho = time.time() - inicio\n",
        "\n",
        "        # Avaliando remoção\n",
        "        inicio = time.time()\n",
        "        for chave, _ in dados:\n",
        "            dicionario.remover(chave)\n",
        "        tempo_remocao = time.time() - inicio\n",
        "\n",
        "        resultados.append({\n",
        "            'tamanho': tamanho,\n",
        "            'tempo_insercao': tempo_insercao,\n",
        "            'tempo_tamanho': tempo_tamanho,\n",
        "            'tempo_remocao': tempo_remocao,\n",
        "            'tamanho_final': tamanho_dicionario\n",
        "        })\n",
        "\n",
        "    return resultados\n",
        "\n",
        "# Parâmetros de avaliação\n",
        "tamanhos = [100, 1000, 10000, 100000, 1000000]\n",
        "resultados = avaliar_operacoes(tamanhos)\n",
        "\n",
        "# Relatório dos resultados\n",
        "for resultado in resultados:\n",
        "    print(f\"Tamanho: {resultado['tamanho']} - Tempo de Inserção: {resultado['tempo_insercao']:.6f}s, \"\n",
        "          f\"Tempo para Consultar Tamanho: {resultado['tempo_tamanho']:.6f}s, \"\n",
        "          f\"Tempo de Remoção: {resultado['tempo_remocao']:.6f}s, \"\n",
        "          f\"Tamanho Final: {resultado['tamanho_final']}\")\n"
      ]
    },
    {
      "cell_type": "markdown",
      "source": [
        "Classe MyDict:\n",
        "Implementa um dicionário usando uma tabela hash com encadeamento separado.\n",
        "A função _hash calcula o índice na tabela baseado no hash da chave.\n",
        "As suas operações incluem inserir(para adicionar ou atualizar pares chave-valor), remover(para excluir uma chave e seu valor associado), buscar(para recuperar valores), atualizar(busca a chave no índice correspondente da tabela hash, se a chave for encontrada, o valor associado é atualizado; caso contrário, a operação falha e retorna False) e tamanho(retorna o número total de pares chave-valor no dicionário, armazenado na variável self.count, atualizada em cada inserção ou remoção)\n",
        "\n",
        "O gerador de dadoa aleatórios gera pares chave-valor com chaves de 10 caracteres alfanuméricos e valores numéricos aleatórios.\n",
        "\n",
        "Na avaliação de desempenho, para cada tamanho de entrada, é realizada a inserção inicial dos pares chave-valor, atualização de cada chave com um novo valor(valor + 1), consulta do tamanho do dicionário após a inserção e faz a remoção das chaves. ***************\n",
        "\n",
        "Complexidade:\n",
        "Inserção: O(1) em média, O(n) no pior caso, quando todas as chaves colidem.\n",
        "Remoção: O(1) em média, O(n) no pior caso.\n",
        "Busca: O(1) em média, O(n) no pior caso.\n"
      ],
      "metadata": {
        "id": "URMP6AzZq25T"
      }
    },
    {
      "cell_type": "markdown",
      "source": [
        "Item F"
      ],
      "metadata": {
        "id": "xzlLwHdqr_aM"
      }
    },
    {
      "cell_type": "code",
      "source": [
        "class MyDict:\n",
        "    def __init__(self, size=100):\n",
        "        self.size = size\n",
        "        self.table = [[] for _ in range(size)]\n",
        "        self.count = 0  # Contador de pares chave-valor\n",
        "\n",
        "    def _hash(self, key):\n",
        "        return hash(key) % self.size\n",
        "\n",
        "    def inserir(self, key, value):\n",
        "        index = self._hash(key)\n",
        "        for i, (k, v) in enumerate(self.table[index]):\n",
        "            if k == key:\n",
        "                self.table[index][i] = (key, value)  # Atualiza o valor\n",
        "                return\n",
        "        self.table[index].append((key, value))  # Insere um novo par\n",
        "        self.count += 1\n",
        "\n",
        "    def remover(self, key):\n",
        "        index = self._hash(key)\n",
        "        for i, (k, v) in enumerate(self.table[index]):\n",
        "            if k == key:\n",
        "                del self.table[index][i]\n",
        "                self.count -= 1\n",
        "                return True\n",
        "        return False  # Chave não encontrada\n",
        "\n",
        "    def buscar(self, key):\n",
        "        index = self._hash(key)\n",
        "        for k, v in self.table[index]:\n",
        "            if k == key:\n",
        "                return v\n",
        "        return None  # Chave não encontrada\n",
        "\n",
        "    def atualizar(self, key, value):\n",
        "        index = self._hash(key)\n",
        "        for i, (k, v) in enumerate(self.table[index]):\n",
        "            if k == key:\n",
        "                self.table[index][i] = (key, value)\n",
        "                return True  # Valor atualizado\n",
        "        return False  # Chave não encontrada\n",
        "\n",
        "    def tamanho(self):\n",
        "        return self.count\n",
        "\n",
        "    def inverter(self):\n",
        "        inverted = MyDict(self.size)\n",
        "        for bucket in self.table:\n",
        "            for key, value in bucket:\n",
        "                inverted.inserir(value, key)\n",
        "        return inverted\n",
        "\n",
        "    def __repr__(self):\n",
        "        return str(self.table)\n",
        "\n",
        "# Gerador de dados aleatórios\n",
        "def gerar_dados(tamanho):\n",
        "    dados = []\n",
        "    for _ in range(tamanho):\n",
        "        chave = ''.join(random.choices(string.ascii_letters + string.digits, k=10))\n",
        "        valor = random.randint(1, 1000)\n",
        "        dados.append((chave, valor))\n",
        "    return dados\n",
        "\n",
        "# Avaliação de desempenho\n",
        "def avaliar_operacoes(tamanhos):\n",
        "    resultados = []\n",
        "    for tamanho in tamanhos:\n",
        "        dados = gerar_dados(tamanho)\n",
        "        dicionario = MyDict(size=max(10, tamanho // 10))\n",
        "\n",
        "        # Avaliando inserção\n",
        "        inicio = time.time()\n",
        "        for chave, valor in dados:\n",
        "            dicionario.inserir(chave, valor)\n",
        "        tempo_insercao = time.time() - inicio\n",
        "\n",
        "        # Avaliando inversão\n",
        "        inicio = time.time()\n",
        "        dicionario_invertido = dicionario.inverter()\n",
        "        tempo_inversao = time.time() - inicio\n",
        "\n",
        "        # Avaliando remoção\n",
        "        inicio = time.time()\n",
        "        for chave, _ in dados:\n",
        "            dicionario.remover(chave)\n",
        "        tempo_remocao = time.time() - inicio\n",
        "\n",
        "        resultados.append({\n",
        "            'tamanho': tamanho,\n",
        "            'tempo_insercao': tempo_insercao,\n",
        "            'tempo_inversao': tempo_inversao,\n",
        "            'tempo_remocao': tempo_remocao\n",
        "        })\n",
        "\n",
        "    return resultados\n",
        "\n",
        "# Parâmetros de avaliação\n",
        "tamanhos = [100, 1000, 10000, 100000, 1000000]\n",
        "resultados = avaliar_operacoes(tamanhos)\n",
        "\n",
        "# Relatório dos resultados\n",
        "for resultado in resultados:\n",
        "    print(f\"Tamanho: {resultado['tamanho']} - Tempo de Inserção: {resultado['tempo_insercao']:.6f}s, \"\n",
        "          f\"Tempo de Inversão: {resultado['tempo_inversao']:.6f}s, \"\n",
        "          f\"Tempo de Remoção: {resultado['tempo_remocao']:.6f}s\")\n"
      ],
      "metadata": {
        "colab": {
          "base_uri": "https://localhost:8080/"
        },
        "id": "L2MBdmOfsAe1",
        "outputId": "58278e6a-757b-41b7-a9a1-e18dc21ea52b"
      },
      "execution_count": 8,
      "outputs": [
        {
          "output_type": "stream",
          "name": "stdout",
          "text": [
            "Tamanho: 100 - Tempo de Inserção: 0.000152s, Tempo de Inversão: 0.000124s, Tempo de Remoção: 0.000100s\n",
            "Tamanho: 1000 - Tempo de Inserção: 0.000843s, Tempo de Inversão: 0.000899s, Tempo de Remoção: 0.000532s\n",
            "Tamanho: 10000 - Tempo de Inserção: 0.011901s, Tempo de Inversão: 0.005250s, Tempo de Remoção: 0.006020s\n",
            "Tamanho: 100000 - Tempo de Inserção: 0.228671s, Tempo de Inversão: 0.079744s, Tempo de Remoção: 0.090999s\n",
            "Tamanho: 1000000 - Tempo de Inserção: 3.811471s, Tempo de Inversão: 1.563620s, Tempo de Remoção: 1.279195s\n"
          ]
        }
      ]
    },
    {
      "cell_type": "markdown",
      "source": [
        "Adicionando o método inverter, que itera sobre cada par chave-valor no dicionário original e insere os valores como chaves e as chaves como valores em um novo objeto MyDict.\n",
        "\n",
        "Na avaliação de desempenho, para cada tamanho de entrada, o programa realiza uma inserção de pares chave-valor, a criação de um dicionário invertido e a remoção de todos os pares do dicionário original.\n",
        "\n",
        "Mesma complexidade descrita anteriormente."
      ],
      "metadata": {
        "id": "PXxQjtrzxqdi"
      }
    },
    {
      "cell_type": "markdown",
      "source": [
        "Item G"
      ],
      "metadata": {
        "id": "OrN--YxbzUPF"
      }
    },
    {
      "cell_type": "code",
      "source": [
        "class MyDict:\n",
        "    def __init__(self, size=100):\n",
        "        self.size = size\n",
        "        self.table = [[] for _ in range(size)]\n",
        "        self.count = 0  # Contador de pares chave-valor\n",
        "\n",
        "    def _hash(self, key):\n",
        "        return hash(key) % self.size\n",
        "\n",
        "    def inserir(self, key, value):\n",
        "        index = self._hash(key)\n",
        "        for i, (k, v) in enumerate(self.table[index]):\n",
        "            if k == key:\n",
        "                self.table[index][i] = (key, value)  # Atualiza o valor\n",
        "                return\n",
        "        self.table[index].append((key, value))  # Insere um novo par\n",
        "        self.count += 1\n",
        "\n",
        "    def remover(self, key):\n",
        "        index = self._hash(key)\n",
        "        for i, (k, v) in enumerate(self.table[index]):\n",
        "            if k == key:\n",
        "                del self.table[index][i]\n",
        "                self.count -= 1\n",
        "                return True\n",
        "        return False  # Chave não encontrada\n",
        "\n",
        "    def buscar(self, key):\n",
        "        index = self._hash(key)\n",
        "        for k, v in self.table[index]:\n",
        "            if k == key:\n",
        "                return v\n",
        "        return None  # Chave não encontrada\n",
        "\n",
        "    def atualizar(self, key, value):\n",
        "        index = self._hash(key)\n",
        "        for i, (k, v) in enumerate(self.table[index]):\n",
        "            if k == key:\n",
        "                self.table[index][i] = (key, value)\n",
        "                return True  # Valor atualizado\n",
        "        return False  # Chave não encontrada\n",
        "\n",
        "    def tamanho(self):\n",
        "        return self.count\n",
        "\n",
        "    def inverter(self):\n",
        "        inverted = MyDict(self.size)\n",
        "        for bucket in self.table:\n",
        "            for key, value in bucket:\n",
        "                inverted.inserir(value, key)\n",
        "        return inverted\n",
        "\n",
        "    @staticmethod\n",
        "    def comparar_listas(lista1, lista2):\n",
        "        dict1 = {key: value for key, value in lista1}\n",
        "        dict2 = {key: value for key, value in lista2}\n",
        "        return dict1 == dict2\n",
        "\n",
        "    def __repr__(self):\n",
        "        return str(self.table)\n",
        "\n",
        "# Gerador de dados aleatórios\n",
        "def gerar_dados(tamanho):\n",
        "    dados = []\n",
        "    for _ in range(tamanho):\n",
        "        chave = ''.join(random.choices(string.ascii_letters + string.digits, k=10))\n",
        "        valor = random.randint(1, 1000)\n",
        "        dados.append((chave, valor))\n",
        "    return dados\n",
        "\n",
        "# Avaliação de desempenho\n",
        "def avaliar_operacoes(tamanhos):\n",
        "    resultados = []\n",
        "    for tamanho in tamanhos:\n",
        "        dados1 = gerar_dados(tamanho)\n",
        "        dados2 = gerar_dados(tamanho)\n",
        "        dicionario = MyDict(size=max(10, tamanho // 10))\n",
        "\n",
        "        # Avaliando inserção\n",
        "        inicio = time.time()\n",
        "        for chave, valor in dados1:\n",
        "            dicionario.inserir(chave, valor)\n",
        "        tempo_insercao = time.time() - inicio\n",
        "\n",
        "        # Avaliando comparação de listas\n",
        "        inicio = time.time()\n",
        "        sao_iguais = MyDict.comparar_listas(dados1, dados2)\n",
        "        tempo_comparacao = time.time() - inicio\n",
        "\n",
        "        # Avaliando remoção\n",
        "        inicio = time.time()\n",
        "        for chave, _ in dados1:\n",
        "            dicionario.remover(chave)\n",
        "        tempo_remocao = time.time() - inicio\n",
        "\n",
        "        resultados.append({\n",
        "            'tamanho': tamanho,\n",
        "            'tempo_insercao': tempo_insercao,\n",
        "            'tempo_comparacao': tempo_comparacao,\n",
        "            'tempo_remocao': tempo_remocao,\n",
        "            'sao_iguais': sao_iguais\n",
        "        })\n",
        "\n",
        "    return resultados\n",
        "\n",
        "# Parâmetros de avaliação\n",
        "tamanhos = [100, 1000, 10000, 100000, 1000000]\n",
        "resultados = avaliar_operacoes(tamanhos)\n",
        "\n",
        "# Relatório dos resultados\n",
        "for resultado in resultados:\n",
        "    print(f\"Tamanho: {resultado['tamanho']} - Tempo de Inserção: {resultado['tempo_insercao']:.6f}s, \"\n",
        "          f\"Tempo de Comparação: {resultado['tempo_comparacao']:.6f}s, \"\n",
        "          f\"Tempo de Remoção: {resultado['tempo_remocao']:.6f}s, \"\n",
        "          f\"Listas Iguais: {resultado['sao_iguais']}\")"
      ],
      "metadata": {
        "colab": {
          "base_uri": "https://localhost:8080/"
        },
        "id": "qw3MM8IuzVz0",
        "outputId": "d3d841da-ce7c-432e-f79a-f2e6280ee1d2"
      },
      "execution_count": 9,
      "outputs": [
        {
          "output_type": "stream",
          "name": "stdout",
          "text": [
            "Tamanho: 100 - Tempo de Inserção: 0.000089s, Tempo de Comparação: 0.000027s, Tempo de Remoção: 0.000053s, Listas Iguais: False\n",
            "Tamanho: 1000 - Tempo de Inserção: 0.001073s, Tempo de Comparação: 0.000205s, Tempo de Remoção: 0.000530s, Listas Iguais: False\n",
            "Tamanho: 10000 - Tempo de Inserção: 0.014872s, Tempo de Comparação: 0.003816s, Tempo de Remoção: 0.008622s, Listas Iguais: False\n",
            "Tamanho: 100000 - Tempo de Inserção: 0.326940s, Tempo de Comparação: 0.047726s, Tempo de Remoção: 0.085598s, Listas Iguais: False\n",
            "Tamanho: 1000000 - Tempo de Inserção: 4.280283s, Tempo de Comparação: 0.893448s, Tempo de Remoção: 1.205605s, Listas Iguais: False\n"
          ]
        }
      ]
    },
    {
      "cell_type": "markdown",
      "source": [
        "Adicionando o método comparar_listas, que converte as listas de pares chave-valor em dicionários Python padrão e compara os dicionários utilizando o operador de igualdade (==), que verifica se ambas as estruturas possuem os mesmos pares.\n",
        "\n",
        "Na avaliação de desempenho, para cada tamanho de entrada, o programa realiza uma inserção de pares chave-valor, compara entre duas listas geradas aleatoriamente e remove todos os pares do dicionário.\n",
        "\n",
        "Mesma complexidade dos outros itens."
      ],
      "metadata": {
        "id": "jMSiZ6frzfUw"
      }
    }
  ]
}