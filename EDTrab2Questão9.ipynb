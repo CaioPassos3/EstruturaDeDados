{
  "nbformat": 4,
  "nbformat_minor": 0,
  "metadata": {
    "colab": {
      "provenance": [],
      "authorship_tag": "ABX9TyO2smdtDq1ZYhJmqlnARVgx",
      "include_colab_link": true
    },
    "kernelspec": {
      "name": "python3",
      "display_name": "Python 3"
    },
    "language_info": {
      "name": "python"
    }
  },
  "cells": [
    {
      "cell_type": "markdown",
      "metadata": {
        "id": "view-in-github",
        "colab_type": "text"
      },
      "source": [
        "<a href=\"https://colab.research.google.com/github/CaioPassos3/EstruturaDeDados/blob/main/EDTrab2Quest%C3%A3o9.ipynb\" target=\"_parent\"><img src=\"https://colab.research.google.com/assets/colab-badge.svg\" alt=\"Open In Colab\"/></a>"
      ]
    },
    {
      "cell_type": "markdown",
      "source": [
        "Questão 9"
      ],
      "metadata": {
        "id": "s0mM-E7A2c02"
      }
    },
    {
      "cell_type": "code",
      "execution_count": 1,
      "metadata": {
        "colab": {
          "base_uri": "https://localhost:8080/"
        },
        "id": "hoiezAv32cOR",
        "outputId": "07afda14-1efc-42d5-98f7-75dcf8f13e5c"
      },
      "outputs": [
        {
          "output_type": "stream",
          "name": "stdout",
          "text": [
            "Testando com 100 produtos...\n",
            "Testando com 1000 produtos...\n",
            "Testando com 10000 produtos...\n",
            "Testando com 1000000 produtos...\n",
            "\n",
            "Relatório de Desempenho:\n",
            "\n",
            "Tamanho: 100\n",
            "  Tempo de Inclusão: 0.000055 segundos\n",
            "  Tempo de Busca: 0.000028 segundos\n",
            "  Tempo de Verificação: 0.000037 segundos\n",
            "  Tempo de Exclusão: 0.000295 segundos\n",
            "\n",
            "Tamanho: 1000\n",
            "  Tempo de Inclusão: 0.000287 segundos\n",
            "  Tempo de Busca: 0.000206 segundos\n",
            "  Tempo de Verificação: 0.000196 segundos\n",
            "  Tempo de Exclusão: 0.000219 segundos\n",
            "\n",
            "Tamanho: 10000\n",
            "  Tempo de Inclusão: 0.002638 segundos\n",
            "  Tempo de Busca: 0.000373 segundos\n",
            "  Tempo de Verificação: 0.000278 segundos\n",
            "  Tempo de Exclusão: 0.000346 segundos\n",
            "\n",
            "Tamanho: 1000000\n",
            "  Tempo de Inclusão: 0.840517 segundos\n",
            "  Tempo de Busca: 0.027262 segundos\n",
            "  Tempo de Verificação: 0.022907 segundos\n",
            "  Tempo de Exclusão: 0.021768 segundos\n",
            "\n"
          ]
        }
      ],
      "source": [
        "import time\n",
        "import random\n",
        "import string\n",
        "\n",
        "class CadastroProdutos:\n",
        "    def __init__(self):\n",
        "        self.tabela_hash = {}\n",
        "\n",
        "    def cadastrar_produto(self, codigo_produto, nome_produto):\n",
        "        self.tabela_hash[codigo_produto] = nome_produto\n",
        "\n",
        "    def buscar_produto(self, codigo_produto):\n",
        "        return self.tabela_hash.get(codigo_produto, None)\n",
        "\n",
        "    def verificar_produto(self, codigo_produto):\n",
        "        return codigo_produto in self.tabela_hash\n",
        "\n",
        "    def excluir_produto(self, codigo_produto):\n",
        "        return self.tabela_hash.pop(codigo_produto, None) is not None\n",
        "\n",
        "    def listar_produtos(self):\n",
        "        return list(self.tabela_hash.items())\n",
        "\n",
        "# Gerador de dados aleatórios\n",
        "def gerar_dados(tamanho):\n",
        "    dados = {}\n",
        "    for _ in range(tamanho):\n",
        "        codigo = random.randint(1, 10**9)  # Código único\n",
        "        nome = ''.join(random.choices(string.ascii_letters, k=10))  # Nome aleatório com 10 caracteres\n",
        "        dados[codigo] = nome\n",
        "    return dados\n",
        "\n",
        "# Teste de desempenho\n",
        "def testar_operacoes(tamanhos):\n",
        "    relatorio = []\n",
        "\n",
        "    for tamanho in tamanhos:\n",
        "        print(f\"Testando com {tamanho} produtos...\")\n",
        "        dados = gerar_dados(tamanho)\n",
        "        cadastro = CadastroProdutos()\n",
        "\n",
        "        # Tempo de inclusão\n",
        "        inicio = time.time()\n",
        "        for codigo, nome in dados.items():\n",
        "            cadastro.cadastrar_produto(codigo, nome)\n",
        "        tempo_inclusao = time.time() - inicio\n",
        "\n",
        "        # Tempo de busca\n",
        "        inicio = time.time()\n",
        "        for codigo in list(dados.keys())[:1000]:  # Buscar 1000 elementos\n",
        "            cadastro.buscar_produto(codigo)\n",
        "        tempo_busca = time.time() - inicio\n",
        "\n",
        "        # Tempo de verificação\n",
        "        inicio = time.time()\n",
        "        for codigo in list(dados.keys())[:1000]:\n",
        "            cadastro.verificar_produto(codigo)\n",
        "        tempo_verificacao = time.time() - inicio\n",
        "\n",
        "        # Tempo de exclusão\n",
        "        inicio = time.time()\n",
        "        for codigo in list(dados.keys())[:1000]:\n",
        "            cadastro.excluir_produto(codigo)\n",
        "        tempo_exclusao = time.time() - inicio\n",
        "\n",
        "        # Relatório\n",
        "        relatorio.append({\n",
        "            \"tamanho\": tamanho,\n",
        "            \"tempo_inclusao\": tempo_inclusao,\n",
        "            \"tempo_busca\": tempo_busca,\n",
        "            \"tempo_verificacao\": tempo_verificacao,\n",
        "            \"tempo_exclusao\": tempo_exclusao,\n",
        "        })\n",
        "\n",
        "    return relatorio\n",
        "\n",
        "# Executar testes\n",
        "def main():\n",
        "    tamanhos = [100, 1000, 10000, 1000000]\n",
        "    relatorio = testar_operacoes(tamanhos)\n",
        "\n",
        "    print(\"\\nRelatório de Desempenho:\\n\")\n",
        "    for resultado in relatorio:\n",
        "        print(f\"Tamanho: {resultado['tamanho']}\")\n",
        "        print(f\"  Tempo de Inclusão: {resultado['tempo_inclusao']:.6f} segundos\")\n",
        "        print(f\"  Tempo de Busca: {resultado['tempo_busca']:.6f} segundos\")\n",
        "        print(f\"  Tempo de Verificação: {resultado['tempo_verificacao']:.6f} segundos\")\n",
        "        print(f\"  Tempo de Exclusão: {resultado['tempo_exclusao']:.6f} segundos\\n\")\n",
        "\n",
        "if __name__ == \"__main__\":\n",
        "    main()"
      ]
    },
    {
      "cell_type": "markdown",
      "source": [
        "Cadastro de Produto: Adiciona ou atualiza o código do produto na tabela hash. Complexidade: O(1) (tempo constante)\n",
        "\n",
        "Buscar Produto: Retorna o nome do produto correspondente ao código. Complexidade: O(1)\n",
        "\n",
        "Verificar Produto: Verifica a existência do código do produto. Complexidade:\n",
        "O(1)\n",
        "\n",
        "Excluir Produto: Remove o produto pelo código. Complexidade: O(1)\n",
        "\n",
        "Listar Produtos: Converte os itens da tabela hash em uma lista. Complexidade: O(n), onde n é o número de produtos cadastrados.\n",
        "\n",
        "Para os tamanhos 100, 1000, 10000 e 1000000:\n",
        "Inclusão, busca, verificação e exclusão: Os tempos aumentam linearmente com o número de operações, mas cada operação individual mantém um tempo constante.\n",
        "Listagem: O tempo aumenta linearmente com o tamanho dos dados (O(n)).\n"
      ],
      "metadata": {
        "id": "FSIa00Yr2w90"
      }
    }
  ]
}